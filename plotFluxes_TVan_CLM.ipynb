{
 "cells": [
  {
   "cell_type": "markdown",
   "metadata": {},
   "source": [
    "## plotFluxes_TVan_CLM\n",
    "#### Plots simulated vs. observed ratiation, energy fluxes & GPP at tower sites\n",
    "- Obs here are flux tower data, included in met forcing data\n",
    "- Created by Will Wieder, Sept 20, 2020"
   ]
  },
  {
   "cell_type": "code",
   "execution_count": 1,
   "metadata": {},
   "outputs": [],
   "source": [
    "import xarray as xr\n",
    "import numpy as np\n",
    "import pandas as pd\n",
    "import utils\n",
    "from scipy import signal,stats\n",
    "import cftime\n",
    "#import nc_time_axis\n",
    "#import cf_units as cf\n",
    "\n",
    "# some resources for plotting\n",
    "import matplotlib.pyplot as plt\n",
    "import matplotlib.colors as colors\n",
    "import matplotlib.lines as mlines\n",
    "import matplotlib.dates as mdates\n",
    "\n",
    "# supress Runtime warnings that let you know when code isn't too efficiently\n",
    "import warnings\n",
    "warnings.simplefilter(\"ignore\", category=RuntimeWarning)\n",
    "\n",
    "%matplotlib inline"
   ]
  },
  {
   "cell_type": "markdown",
   "metadata": {},
   "source": [
    "### Point to files"
   ]
  },
  {
   "cell_type": "code",
   "execution_count": 2,
   "metadata": {},
   "outputs": [
    {
     "name": "stdout",
     "output_type": "stream",
     "text": [
      "/glade/p/cgd/tss/people/wwieder/inputdata/single_point/datmdata_NWT_Tvan/fell_field/2008-01.nc\n"
     ]
    },
    {
     "data": {
      "text/plain": [
       "'/glade/scratch/wwieder/archive/clm50bgc_NWT_ff_newPHS_lowSLA_SAND_cn32_upG1/lnd/hist/clm50bgc_NWT_ff_newPHS_lowSLA_SAND_cn32_upG1.clm2.h1.2008-01-01-00000.nc'"
      ]
     },
     "execution_count": 2,
     "metadata": {},
     "output_type": "execute_result"
    }
   ],
   "source": [
    "# Niwot LTER  simulations\n",
    "site  = ['ff_newPHS_lowSLA_SAND_cn32_upG1',\n",
    "         'ff_newPHS_lowSLA_SAND_cn32']\n",
    "longSite  =  'fell_field'#'dry_meadow'\n",
    "rollHour = -12  \n",
    "case  = ['clm50bgc_NWT_'+site[s] for s in range(len(site))]\n",
    "years = range(2008,2020)\n",
    "nmon  = 12\n",
    "OBSdir = '/glade/p/cgd/tss/people/wwieder/inputdata/single_point/datmdata_NWT_Tvan/'+longSite+'/'\n",
    "OBSfile = [OBSdir + str(years[i])+'-'+str(m+1).zfill(2)+'.nc' for i in range(len(years))  for m in range(nmon)]  \n",
    "OUTdir = OBSdir\n",
    "#print(OBSfile)\n",
    "\n",
    "\n",
    "CLMdir = ['/glade/scratch/wwieder/archive/'+case[s]+'/lnd/hist/' for s in range(len(site))]\n",
    "CLMfile = [CLMdir[0] + case[0] +'.clm2.h1.'+str(years[i]) +'-01-01-00000.nc' \\\n",
    "           for i in range(len(years)) ]  \n",
    "CLMfile2 = [CLMdir[1] + case[1] +'.clm2.h1.'+str(years[i]) +'-01-01-00000.nc' \\\n",
    "           for i in range(len(years)) ]  \n",
    "CLMmon = CLMdir[0] + case[0]+'.clm2.h0.'+str(years[1])+'-01.nc' # single month of data for soil C pools \n",
    "print(OBSfile[0])\n",
    "CLMfile[0]"
   ]
  },
  {
   "cell_type": "markdown",
   "metadata": {},
   "source": [
    "### Read in dataset \n",
    "- get rid of extra dimensions\n",
    "- remove CLM time shift"
   ]
  },
  {
   "cell_type": "code",
   "execution_count": 3,
   "metadata": {},
   "outputs": [
    {
     "name": "stdout",
     "output_type": "stream",
     "text": [
      "---- read  in data  ----\n"
     ]
    }
   ],
   "source": [
    "\n",
    "dsOBS = utils.time_set_mid(xr.open_mfdataset(OBSfile, decode_times=True, combine='by_coords'), 'time')\n",
    "dsCLM  = utils.time_set_mid(xr.open_mfdataset(CLMfile, decode_times=True, combine='by_coords'), 'time')\n",
    "dsCLM2 = utils.time_set_mid(xr.open_mfdataset(CLMfile2, decode_times=True, combine='by_coords'), 'time')\n",
    "dsCLMmon = utils.time_set_mid(xr.open_mfdataset(CLMmon, decode_times=True, combine='by_coords'), 'time')\n",
    "print('---- read  in data  ----')"
   ]
  },
  {
   "cell_type": "code",
   "execution_count": 4,
   "metadata": {},
   "outputs": [],
   "source": [
    "# get rid of extra dimensions & coordinates \n",
    "dsOBS  = dsOBS.isel(lat=0, lon=0)\n",
    "dsCLM  = dsCLM.isel(lndgrid=0)\n",
    "dsCLM2 = dsCLM2.isel(lndgrid=0)\n",
    "dsCLMmon = dsCLMmon.isel(lndgrid=0, time=0)\n",
    "dsCLM = dsCLM.shift(time=-1)\n",
    "dsCLM2 = dsCLM2.shift(time=-1)"
   ]
  },
  {
   "cell_type": "markdown",
   "metadata": {},
   "source": [
    "## First compare LAI and GPP from two simulations"
   ]
  },
  {
   "cell_type": "code",
   "execution_count": null,
   "metadata": {},
   "outputs": [
    {
     "name": "stdout",
     "output_type": "stream",
     "text": [
      "gC/m^2/s\n"
     ]
    }
   ],
   "source": [
    "s2d = 60 * 60 *24\n",
    "plt.figure(figsize=[14,6])\n",
    "plt.subplot(1,2,1)\n",
    "plt.plot(dsCLM.time, dsCLM.ELAI, lw=3)\n",
    "plt.plot(dsCLM2.time, dsCLM2.ELAI, lw=2)\n",
    "plt.legend(['up G1','def G1'],frameon=False,fontsize='medium',loc='upper right')\n",
    "plt.title('Fell Field ['+site[0]+']', loc='left', fontsize='medium', fontweight='bold');\n",
    "plt.ylabel('LAI')        \n",
    "\n",
    "print(dsCLM.GPP.attrs['units'])\n",
    "plt.subplot(1,2,2)\n",
    "plt.plot(dsCLM.time.resample(time='1D').mean(), \n",
    "         (dsCLM.GPP.resample(time='1D').mean()*3600*24), \n",
    "         lw=3)\n",
    "plt.plot(dsCLM2.time.resample(time='1D').mean(), \n",
    "         (dsCLM2.GPP.resample(time='1D').mean()*3600*24), \n",
    "         lw=1)\n",
    "plt.legend(['up G1','def G1'],frameon=False,fontsize='medium',loc='upper right')\n",
    "#plt.title('Fell Field ['+site[0]+']', loc='left', fontsize='medium', fontweight='bold');\n",
    "plt.ylabel('GPP (gC/m2/d)');"
   ]
  },
  {
   "cell_type": "code",
   "execution_count": null,
   "metadata": {},
   "outputs": [],
   "source": [
    "# annual GPP\n",
    "# Warning, observed GPP data has lots of missing values\n",
    "s2y = 60 * 60 * 24 * 365 #convert seconds / year\n",
    "print(dsOBS.GPP.attrs['units'])\n",
    "annGPPobs = (dsOBS.GPP.groupby('time.year').mean()*s2y*12e-6)\n",
    "annGPP_1 = (dsCLM.GPP.resample(time='1Y').mean()*s2y)\n",
    "annNPP_1 = (dsCLM.NPP.resample(time='1Y').mean()*s2y)\n",
    "annAR_1 = (dsCLM.AR.resample(time='1Y').mean()*s2y)\n",
    "annGPP_2 = (dsCLM2.GPP.resample(time='1Y').mean()*s2y)\n",
    "annNPP_2 = (dsCLM2.NPP.resample(time='1Y').mean()*s2y)\n",
    "print('obs GPP  = '+ str(np.round(annGPPobs.mean().values,1))+' +/- '+\n",
    "      str(np.round(annGPPobs.std().values,1)) +' gC/m2/y')\n",
    "print('up G1 GPP  = '+ str(np.round(annGPP_1.mean().values,1))+' +/- '+\n",
    "      str(np.round(annGPP_1.std().values,1)) +' gC/m2/y')\n",
    "print('def G1 GPP = '+str(np.round(annGPP_2.mean().values, 1))+' +/- '+\n",
    "      str(np.round(annGPP_2.std().values,1)) +' gC/m2/y')\n",
    "print('')\n",
    "print('up G1 NPP  = '+ str(np.round(annNPP_1.mean().values,1))+' +/- '+\n",
    "      str(np.round(annNPP_1.std().values,1)) +' gC/m2/y')\n",
    "print('def G1 NPP  = '+ str(np.round(annNPP_2.mean().values,1))+' +/- '+\n",
    "      str(np.round(annNPP_1.std().values,1)) +' gC/m2/y')\n",
    "print('up G1 AR  = '+ str(np.round(annAR_1.mean().values,1))+' +/- '+\n",
    "      str(np.round(annAR_1.std().values,1)) +' gC/m2/y')\n"
   ]
  },
  {
   "cell_type": "markdown",
   "metadata": {},
   "source": [
    "----------------\n",
    "### Generate ways to average data\n",
    "- this may be better using resample, rather than groupby, as below"
   ]
  },
  {
   "cell_type": "code",
   "execution_count": null,
   "metadata": {},
   "outputs": [],
   "source": [
    "# create new variables to subset data\n",
    "print(dsCLMmon.SOILC_vr)\n",
    "dsOBS['year']  = dsOBS['time.year']\n",
    "dsOBS['month']  = dsOBS['time.month']\n",
    "dsCLM['year']  = dsCLM['time.year']\n",
    "dsCLM['month']  = dsCLM['time.month']\n",
    "dsOBS['season'] = dsOBS['time.season']\n",
    "dsCLM['season'] = dsCLM['time.season']\n",
    "#Can't groupby hour & minutes, so combine them here\n",
    "dsOBS['HourMin'] = np.round(dsOBS['time.hour'] + dsOBS['time.minute']/60,1)\n",
    "dsCLM['HourMin'] = np.round(dsCLM['time.hour'] + dsCLM['time.minute']/60,1)\n",
    "dsOBS['MonDay'] = np.round(dsOBS['time.month'] + dsOBS['time.day']/100,2)\n",
    "dsCLM['MonDay'] = np.round(dsCLM['time.month'] + dsCLM['time.day']/100,2)\n",
    "\n",
    "# calculate Rnet from absorbed - reflected radiation\n",
    "dsCLM['Rnet'] = dsCLM.FSA - dsCLM.FIRA\t\n",
    "dsCLM['Rnet'].attrs['units'] = dsCLM.FSA.attrs['units']\n",
    "dsCLM['Rnet'].attrs['long_name'] = 'net radiation'\n",
    "\n",
    "#  total preciptiation\n",
    "dsCLM['ppt'] = dsCLM.RAIN + dsCLM.SNOW\n",
    "dsCLM['ppt'].attrs['units'] = dsCLM.RAIN.attrs['units']\n",
    "dsCLM['ppt'].attrs['long_name'] = 'RAIN + SNOW'"
   ]
  },
  {
   "cell_type": "code",
   "execution_count": null,
   "metadata": {},
   "outputs": [],
   "source": [
    "# convert obs GPP units from umol/m2/s to g/m2/h\n",
    "# assumes NEON results are umolC (not CO2) m^-2 s^-1\n",
    "dsOBS['GPP'] = dsOBS.GPP * 1e-6 * 12.01 * 3600\n",
    "dsOBS['GPP'].attrs['units'] = 'gC/m2/h'\n",
    "# convert clm GPP units from g/m2/s to g/m2/h\n",
    "dsCLM['GPP'] = dsCLM.GPP * 3600\n",
    "dsCLM2['GPP'] = dsCLM2.GPP * 3600\n",
    "dsCLM['GPP'].attrs['units'] = 'gC/m2/h'\n",
    "dsCLM2['GPP'].attrs['units'] = 'gC/m2/h'"
   ]
  },
  {
   "cell_type": "markdown",
   "metadata": {},
   "source": [
    "--------------------------\n",
    "## Plots of seasonal data\n",
    "--------------------------"
   ]
  },
  {
   "cell_type": "code",
   "execution_count": null,
   "metadata": {},
   "outputs": [],
   "source": [
    "Var = ['Rnet','FSH','EFLX_LH_TOT','GPP']\n",
    "Season = ['DJF','MAM','JJA','SON']"
   ]
  },
  {
   "cell_type": "code",
   "execution_count": null,
   "metadata": {},
   "outputs": [],
   "source": [
    "# First make a test for one season and variable\n",
    "fig, ax = plt.subplots()\n",
    "x, y = dsOBS[Var[0]].where(dsOBS.season==Season[2]).values,  \\\n",
    "    dsCLM[Var[0]].where(dsCLM.season==Season[2]).values\n",
    "\n",
    "ax.plot(x, y,',')\n",
    "line = mlines.Line2D([x.min(), x.max()], [x.min(), x.max()], color='k')\n",
    "ax.add_line(line)\n",
    "ax.text(0.15, 0.90,(Var[0]+', '+Season[2]), fontsize=14, \n",
    "        ha='center', va='center', transform=plt.gca().transAxes);\n",
    "\n",
    "# drop missing values from x,y\n",
    "bad = ~np.logical_or(np.isnan(x), np.isnan(y))\n",
    "x = np.compress(bad, x)  \n",
    "y = np.compress(bad, y) \n",
    "\n",
    "R, p = stats.pearsonr(x,y)\n",
    "R = np.round(R, 2)\n",
    "ax.text(0.85, 0.90,'r = '+str(R),fontsize=12, \n",
    "        ha='center', va='center', transform=plt.gca().transAxes);"
   ]
  },
  {
   "cell_type": "code",
   "execution_count": null,
   "metadata": {},
   "outputs": [],
   "source": [
    "fig, axs = plt.subplots(len(Season), len(Var), sharey='row', #sharey='col',\n",
    "                        gridspec_kw={'wspace': 0},\n",
    "                        figsize=(12,10))\n",
    "for v in range(len(Var)):\n",
    "    ymin = dsCLM[Var[v]].min()\n",
    "    ymax = dsCLM[Var[v]].max()\n",
    "    for i in range(len(Season)):\n",
    "        x = dsOBS[Var[v]].where(dsOBS.season==Season[i]).values\n",
    "        y = dsCLM[Var[v]].where(dsCLM.season==Season[i]).values\n",
    "        axs[v,i].plot(x, y,',')\n",
    "        line = mlines.Line2D([ymin, ymax], [ymin, ymax], color='k')\n",
    "        axs[v,i].add_line(line)\n",
    "\n",
    "        # add stats\n",
    "        bad = ~np.logical_or(np.isnan(x), np.isnan(y))\n",
    "        x = np.compress(bad, x)  \n",
    "        y = np.compress(bad, y) \n",
    "        R, p = stats.pearsonr(x,y)\n",
    "        R = np.round(R, 2)\n",
    "        axs[v,i].text(0.8, 0.1,'r = '+str(R),fontsize=12, \n",
    "                     ha='center', va='center', transform=axs[v,i].transAxes)\n",
    "\n",
    "        # control titles & axis labels\n",
    "        # label colums of data with variables name\n",
    "        if v == 0: \n",
    "            axs[v, i].set_title(Season[i])\n",
    "            #axs[v,i].text(0.15, 0.90,(Season[i]), fontsize=12, ha='center', va='center', \n",
    "            #    transform=axs[v,i].transAxes)\n",
    "            if i == 0:\n",
    "                axs[i, v].set_title(site[0], loc='left', \n",
    "                                    fontsize='x-large', fontweight='bold')\n",
    "\n",
    "        # x-axis lables on bottom row of plots\n",
    "        if v == 3: \n",
    "            axs[v, i].set_xlabel(longSite)\n",
    "        \n",
    "        # y axis labels and seasons in left column\n",
    "        if i == 0:\n",
    "            axs[v,i].set_ylabel('CLM')\n",
    "            axs[v,i].text(0.05, 0.90,(Var[v]), fontsize=12, ha='left', va='center', \n",
    "                transform=axs[v,i].transAxes)\n",
    "\n",
    "plt.savefig(OUTdir+site[0]+'_FluxScatter.pdf');"
   ]
  },
  {
   "cell_type": "markdown",
   "metadata": {},
   "source": [
    "---------------\n",
    "## Diel cycle"
   ]
  },
  {
   "cell_type": "code",
   "execution_count": null,
   "metadata": {},
   "outputs": [],
   "source": [
    "# quick look at one season, variable\n",
    "v, i = 0, 2\n",
    "obsX = dsOBS[Var[v]].where(dsOBS.season==Season[i]).groupby(dsOBS['HourMin']).mean().roll(HourMin=rollHour, roll_coords=False)\n",
    "clmX = dsCLM[Var[v]].where(dsCLM.season==Season[i]).groupby(dsOBS['HourMin']).mean().roll(HourMin=rollHour, roll_coords=False)\n",
    "obsSD = dsOBS[Var[v]].where(dsOBS.season==Season[i]).groupby(dsOBS['HourMin']).std().roll(HourMin=rollHour, roll_coords=False)\n",
    "clmSD = dsCLM[Var[v]].where(dsCLM.season==Season[i]).groupby(dsOBS['HourMin']).std().roll(HourMin=rollHour, roll_coords=False)\n",
    "\n",
    "fig, ax = plt.subplots()\n",
    "ax.plot(obsX.HourMin, obsX, '-', color='k')\n",
    "#ax.fill_between(obsX.HourMin, obsX - obsSD, obsX + obsSD, alpha=0.2,color='k')\n",
    "ax.plot(clmX.HourMin, clmX, '-',color='tab:red')\n",
    "#ax.fill_between(clmX.HourMin, clmX - clmSD, clmX + clmSD, alpha=0.2,color='tab:red')\n",
    "ax.text(0.15, 0.90,(Var[v]+', '+Season[i]), fontsize=14, \n",
    "        ha='center', va='center', transform=plt.gca().transAxes);\n",
    "ax.axvline(x=12)\n",
    "plt.xlim(0,23.5)\n",
    "plt.xticks(np.arange(0., 24., 6.0));"
   ]
  },
  {
   "cell_type": "code",
   "execution_count": null,
   "metadata": {},
   "outputs": [],
   "source": [
    "# This is really slow, not sure why.\n",
    "fig, axs = plt.subplots(len(Var), len(Season), \n",
    "                        sharey='row', sharex=True,\n",
    "                        gridspec_kw={'wspace': 0, 'hspace': 0},\n",
    "                        figsize=(12,10))\n",
    "for v in range(len(Var)):\n",
    "    xmin = dsOBS[Var[v]].min()\n",
    "    xmax = dsOBS[Var[v]].max()\n",
    "    for i in range(len(Season)):\n",
    "        # maybe use resample, not grouby, \n",
    "        # eg da.resample(time='1D').mean()\n",
    "        obsX = dsOBS[Var[v]].where(dsOBS.season==Season[i]).groupby(dsOBS['HourMin']).mean().roll(HourMin=rollHour, roll_coords=False)\n",
    "        clmX = dsCLM[Var[v]].where(dsCLM.season==Season[i]).groupby(dsOBS['HourMin']).mean().roll(HourMin=rollHour, roll_coords=False)\n",
    "        obsSD = dsOBS[Var[v]].where(dsOBS.season==Season[i]).groupby(dsOBS['HourMin']).std().roll(HourMin=rollHour, roll_coords=False)\n",
    "        clmSD = dsCLM[Var[v]].where(dsCLM.season==Season[i]).groupby(dsOBS['HourMin']).std().roll(HourMin=rollHour, roll_coords=False)\n",
    "\n",
    "        axs[v,i].plot(obsX.HourMin, obsX, '-', color='k')\n",
    "        axs[v,i].fill_between(obsX.HourMin, obsX - obsSD, obsX + obsSD, alpha=0.2,color='k')\n",
    "        axs[v,i].plot(clmX.HourMin, clmX, '-',color='tab:red')\n",
    "        axs[v,i].fill_between(clmX.HourMin, clmX - clmSD, clmX + clmSD, alpha=0.2,color='tab:red')\n",
    "        axs[v,i].yaxis.set_ticks_position('both')# Ticks on all 4 sides                                                                                                                                                                                                                                    \n",
    "        axs[v,i].xaxis.set_ticks_position('both')     \n",
    "\n",
    "        # control titles & axis labels\n",
    "        # label colums of data with variables name\n",
    "        if v == 0: \n",
    "            axs[v, i].set_title(Season[i])\n",
    "            if i == 0:\n",
    "                axs[v,i].legend([longSite,'CLM5'], frameon=False)\n",
    "                axs[v,i].set_title(site[0], loc='left', \n",
    "                                    fontsize='x-large', fontweight='bold')\n",
    "\n",
    "        # x-axis lables on bottom row of plots\n",
    "        if v == 3: \n",
    "            axs[v, i].set_xlabel('hour')\n",
    "        \n",
    "        # y axis labels and seasons in left column\n",
    "        if i == 0:\n",
    "            axs[v,i].set_ylabel(Var[v]) \n",
    "\n",
    "plt.xlim(0,23.5)\n",
    "plt.xticks(np.arange(0., 24., 6.0))\n",
    "#axs[0,0].legend((network+' '+longSite),'CLM5', frameon=False)\n",
    "\n",
    "plt.savefig(OUTdir+site[0]+'_FluxDiel.pdf');"
   ]
  },
  {
   "cell_type": "markdown",
   "metadata": {},
   "source": [
    "### Plot mean annual cycle"
   ]
  },
  {
   "cell_type": "code",
   "execution_count": null,
   "metadata": {},
   "outputs": [],
   "source": [
    "months = mdates.MonthLocator()  # every month\n",
    "months_fmt = mdates.DateFormatter('%b')\n",
    "\n",
    "fig, axs = plt.subplots(len(Var),1, sharex=True,\n",
    "                        gridspec_kw={'wspace': 0, 'hspace': 0},\n",
    "                        figsize=(8,8))\n",
    "for v in range(len(Var)):\n",
    "    # using groupby('time.dayofyear') gives too many days in leap year\n",
    "    # use variable MonDay  instead\n",
    "    x = dsOBS['time'].groupby(dsOBS.MonDay).min()\n",
    "    obsX = dsOBS[Var[v]].groupby(dsOBS.MonDay).mean()\n",
    "    clmX = dsCLM[Var[v]].groupby(dsOBS.MonDay).mean()\n",
    "    obsSD = dsOBS[Var[v]].groupby(dsOBS.MonDay).std()\n",
    "    clmSD = dsCLM[Var[v]].groupby(dsOBS.MonDay).std()\n",
    "        \n",
    "    axs[v].plot(x, obsX, '-', color='k')\n",
    "    axs[v].fill_between(x, obsX - obsSD, obsX + obsSD, alpha=0.2,color='k')\n",
    "    axs[v].plot(x, clmX, '-',color='tab:red')\n",
    "    axs[v].fill_between(x, clmX - clmSD, clmX + clmSD, alpha=0.2,color='tab:red')\n",
    "    axs[v].set_ylabel(Var[v])       \n",
    "    axs[v].yaxis.set_ticks_position('both')# Ticks on all 4 sides                                                                                                                                                                                                                                    \n",
    "    axs[v].xaxis.set_ticks_position('both')     \n",
    "\n",
    "    # set  x axis limits\n",
    "    axs[v].format_xdata = mdates.DateFormatter('%Y-%m-%d')\n",
    "    axs[v].xaxis.set_major_locator(months)\n",
    "    axs[v].xaxis.set_major_formatter(months_fmt)\n",
    "    datemin = np.datetime64(x[0].values, 'm')\n",
    "    datemax = np.datetime64(x[-1].values, 'm') \n",
    "    axs[v].set_xlim(datemin, datemax)\n",
    "\n",
    "    # control titles & axis labels\n",
    "    if v == 0: \n",
    "        axs[v].set_title(site[0], loc='left', fontsize='x-large', fontweight='bold')\n",
    "\n",
    "plt.legend([longSite,'CLM5'], frameon=False)\n",
    "\n",
    "#fig.autofmt_xdate()\n",
    "plt.savefig(OUTdir+site[0]+'_FluxAnnual.pdf');"
   ]
  },
  {
   "cell_type": "code",
   "execution_count": null,
   "metadata": {},
   "outputs": [],
   "source": [
    "print(OUTdir)"
   ]
  },
  {
   "cell_type": "code",
   "execution_count": null,
   "metadata": {},
   "outputs": [],
   "source": []
  },
  {
   "cell_type": "markdown",
   "metadata": {},
   "source": [
    "--------------------------\n",
    "## Plot depth-time plots of soil moisture and temperature\n",
    "--------------------------"
   ]
  },
  {
   "cell_type": "code",
   "execution_count": null,
   "metadata": {},
   "outputs": [],
   "source": [
    "dsCLM.TSOI.isel(levgrnd=(slice(0,9))).plot(x=\"time\",yincrease=False, robust=True);"
   ]
  },
  {
   "cell_type": "code",
   "execution_count": null,
   "metadata": {},
   "outputs": [],
   "source": [
    "dsCLM[\"levgrnd\"].isel(levgrnd=slice(0,20)).values"
   ]
  },
  {
   "cell_type": "code",
   "execution_count": null,
   "metadata": {},
   "outputs": [],
   "source": [
    "temp = dsCLM['H2OSOI'].copy(deep=True)\n",
    "temp = temp.assign_coords({\"levsoi\": dsCLM[\"levgrnd\"].isel(levgrnd=slice(0,20)).values})\n",
    "#dsCLM.H2OSOI.levsoi  =  dsCLM[\"levgrnd\"].isel(levgrnd=slice(0,20)).values\n",
    "temp.isel(levsoi=(slice(0,9))).plot(x=\"time\",yincrease=False, robust=True);"
   ]
  },
  {
   "cell_type": "code",
   "execution_count": null,
   "metadata": {},
   "outputs": [],
   "source": [
    "temp = dsCLMmon.SOILC_vr.copy(deep=True)\n",
    "temp = temp.assign_coords({\"levsoi\": dsCLM[\"levgrnd\"].isel(levgrnd=slice(0,20)).values})\n",
    "temp.isel(levsoi=(slice(0,11))).plot(y='levsoi',yincrease=False);\n"
   ]
  },
  {
   "cell_type": "code",
   "execution_count": null,
   "metadata": {},
   "outputs": [],
   "source": [
    "annPPT = dsCLM['ppt'].groupby(dsCLM['year']).mean()\n",
    "annPPT = annPPT * 3600 * 24 * 365 / 10  #convert mm/s to cm/y\n",
    "annNPP = dsCLM['NPP'].groupby(dsCLM['year']).mean()\n",
    "annNPP = annNPP * 3600 * 24 * 365  #convert gC/m2/s gC/m2/y\n",
    "annNPP.plot();"
   ]
  },
  {
   "cell_type": "code",
   "execution_count": null,
   "metadata": {},
   "outputs": [],
   "source": [
    "%%time \n",
    "#dsCLM_day = dsCLM.resample(time='1D').mean()\n",
    "#dsCLM2_day = dsCLM2.resample(time='1D').mean()"
   ]
  },
  {
   "cell_type": "code",
   "execution_count": null,
   "metadata": {},
   "outputs": [],
   "source": [
    "s2d = 60 * 60 *24\n",
    "plt.figure(figsize=[12,7])\n",
    "plt.subplot(1,2,1)\n",
    "plt.plot(dsCLM.time, dsCLM.ELAI, lw=3)\n",
    "plt.plot(dsCLM2.time, dsCLM2.ELAI, lw=2)\n",
    "plt.legend(['up G1','def G1'],frameon=False,fontsize='medium',loc='upper right')\n",
    "plt.title('Fell Field ['+site[0]+']', loc='left', fontsize='medium', fontweight='bold');\n",
    "plt.ylabel('LAI')        \n",
    "\n",
    "print(dsCLM.GPP.attrs['units'])\n",
    "plt.subplot(1,2,2)\n",
    "plt.plot(dsCLM.time.resample(time='1D').mean(), \n",
    "         dsCLM.GPP.resample(time='1D').mean()*24, \n",
    "         lw=3)\n",
    "plt.plot(dsCLM2.time.resample(time='1D').mean(), \n",
    "         dsCLM2.GPP.resample(time='1D').mean()*24, \n",
    "         lw=1)\n",
    "plt.legend(['up G1','def G1'],frameon=False,fontsize='medium',loc='upper right')\n",
    "#plt.title('Fell Field ['+site[0]+']', loc='left', fontsize='medium', fontweight='bold');\n",
    "plt.ylabel('GPP (gC/m2/d)');"
   ]
  },
  {
   "cell_type": "code",
   "execution_count": null,
   "metadata": {},
   "outputs": [],
   "source": [
    "# annual GPP\n",
    "# Warning, observed GPP data has lots of missing values\n",
    "annGPPobs = (dsOBS.GPP.groupby('time.year').mean()*24*365)\n",
    "annGPP_1 = (dsCLM.GPP.resample(time='1Y').mean()*24*365)\n",
    "annNPP_1 = (dsCLM.NPP.resample(time='1Y').mean()*3600*24*365)\n",
    "annAR_1 = (dsCLM.AR.resample(time='1Y').mean()*3600*24*365)\n",
    "annGPP_2 = (dsCLM2.GPP.resample(time='1Y').mean()*24*365)\n",
    "annNPP_2 = (dsCLM2.NPP.resample(time='1Y').mean()*3600*24*365)\n",
    "print('obs GPP  = '+ str(np.round(annGPPobs.mean().values,1))+' +/- '+\n",
    "      str(np.round(annGPPobs.std().values,1)) +' gC/m2/y')\n",
    "print('up G1 GPP  = '+ str(np.round(annGPP_1.mean().values,1))+' +/- '+\n",
    "      str(np.round(annGPP_1.std().values,1)) +' gC/m2/y')\n",
    "print('def G1 GPP = '+str(np.round(annGPP_2.mean().values, 1))+' +/- '+\n",
    "      str(np.round(annGPP_2.std().values,1)) +' gC/m2/y')\n",
    "print('')\n",
    "print('up G1 NPP  = '+ str(np.round(annNPP_1.mean().values,1))+' +/- '+\n",
    "      str(np.round(annNPP_1.std().values,1)) +' gC/m2/y')\n",
    "print('up G2 NPP  = '+ str(np.round(annNPP_2.mean().values,1))+' +/- '+\n",
    "      str(np.round(annNPP_1.std().values,1)) +' gC/m2/y')\n",
    "print('up G1 AR  = '+ str(np.round(annAR_1.mean().values,1))+' +/- '+\n",
    "      str(np.round(annAR_1.std().values,1)) +' gC/m2/y')"
   ]
  },
  {
   "cell_type": "markdown",
   "metadata": {},
   "source": [
    "- GPP is still to high, but \n",
    "- Increasing G1 reduces annual GPP flux, but increases IAV\n",
    "- I'm surprised AR fluxes are not higher... I wonder why, maybe the low C:N used here?"
   ]
  },
  {
   "cell_type": "code",
   "execution_count": null,
   "metadata": {},
   "outputs": [],
   "source": [
    "dsCLM.AR"
   ]
  },
  {
   "cell_type": "markdown",
   "metadata": {},
   "source": [
    "## OBS GPP by year"
   ]
  },
  {
   "cell_type": "code",
   "execution_count": null,
   "metadata": {},
   "outputs": [],
   "source": [
    "plt.figure(figsize=[16,8])\n",
    "\n",
    "# doing this in a loop seems dumb & slow, but it works\n",
    "for j in range(2):\n",
    "    plt.subplot(1,2,(j+1))\n",
    "    plt.xlim((100, 350)) \n",
    "    if j == 0: plt.ylabel('Observed GPP', fontsize='large', fontweight='bold')\n",
    "    else: plt.ylabel('Simulated GPP', fontsize='large', fontweight='bold');\n",
    "\n",
    "    for i in range(len(years)):\n",
    "        I = i + 0  #if fewer years are prefered\n",
    "\n",
    "        #subset year of data\n",
    "        if j == 0: \n",
    "            dsPlot = dsOBS.where(dsOBS['year']==years[I])\n",
    "        else: \n",
    "            dsPlot = dsCLM.where(dsCLM['year']==years[I])\n",
    "\n",
    "        # daily means\n",
    "        x = dsPlot['time.dayofyear'].groupby(dsPlot['time.dayofyear']).min()\n",
    "        y = dsPlot.get('GPP').where(dsPlot['year']==years[I]).groupby(dsPlot['time.dayofyear']).mean().chunk(chunks=1)\n",
    "        # mask out Daily GPP where TBOT<-4\n",
    "        if j == 0:\n",
    "            z = dsPlot.get('TBOT').where(dsPlot['year']==years[I]).groupby(dsPlot['time.dayofyear']).mean()\n",
    "            y = y.where(z>269)\n",
    "\n",
    "        #  10 day rolling mean\n",
    "        y = y.chunk(chunks=10).rolling(dayofyear=10, center=True).mean().dropna(\"dayofyear\")\n",
    "        plt.plot(y.dayofyear, y, '-')\n",
    "\n",
    "    plt.legend(years, frameon=False, loc='upper right');"
   ]
  },
  {
   "cell_type": "code",
   "execution_count": null,
   "metadata": {},
   "outputs": [],
   "source": [
    "dsOBS['TBOT'].plot()"
   ]
  },
  {
   "cell_type": "markdown",
   "metadata": {},
   "source": [
    "### Soil moisture by year"
   ]
  },
  {
   "cell_type": "code",
   "execution_count": null,
   "metadata": {},
   "outputs": [],
   "source": [
    "years = range(dsCLM['year'].values.min(), (dsCLM['year'].values.max()+1))\n",
    "nyear = 4 \n",
    "print(years)\n",
    "for i in range(nyear):\n",
    "    I = i + 7\n",
    "    print(years[I])\n",
    "    x = dsCLM['time.dayofyear'].where(dsCLM['year']==years[I])\n",
    "    y = dsCLM.get('H2OSOI').isel(levsoi=2).where(dsCLM['year']==years[I])\n",
    "    plt.plot(x, y, '-')\n",
    "\n",
    "plt.legend(years[7:11], frameon=False, loc='upper right');"
   ]
  },
  {
   "cell_type": "code",
   "execution_count": null,
   "metadata": {},
   "outputs": [],
   "source": []
  },
  {
   "cell_type": "markdown",
   "metadata": {},
   "source": [
    "-----------------\n",
    "### look into sources of potential flux errors"
   ]
  },
  {
   "cell_type": "code",
   "execution_count": null,
   "metadata": {},
   "outputs": [],
   "source": [
    "Var = ['FSH','TBOT','FSDS','FLDS']\n",
    "v = 0\n",
    "i = 0\n",
    "obsX = dsOBS[Var[v]].where(dsOBS.season==Season[i]).groupby(dsOBS['HourMin']).mean()\n",
    "clmX = dsCLM[Var[v]].where(dsCLM.season==Season[i]).groupby(dsOBS['HourMin']).mean()#.roll(HourMin=rollHour, roll_coords=False)\n",
    "obsSD = dsOBS[Var[v]].where(dsOBS.season==Season[i]).groupby(dsOBS['HourMin']).std()\n",
    "clmSD = dsCLM[Var[v]].where(dsCLM.season==Season[i]).groupby(dsOBS['HourMin']).std()#.roll(HourMin=rollHour, roll_coords=False)\n",
    "\n",
    "fig, ax = plt.subplots()\n",
    "ax.plot(obsX.HourMin, obsX, '-', color='k')\n",
    "ax.fill_between(obsX.HourMin, obsX - obsSD, obsX + obsSD, alpha=0.2,color='k')\n",
    "ax.plot(clmX.HourMin, clmX, '-',color='tab:red')\n",
    "ax.fill_between(clmX.HourMin, clmX - clmSD, clmX + clmSD, alpha=0.2,color='tab:red')\n",
    "ax.text(0.15, 0.90,(Var[v]+', '+Season[i]), fontsize=14, \n",
    "        ha='center', va='center', transform=plt.gca().transAxes);"
   ]
  },
  {
   "cell_type": "code",
   "execution_count": null,
   "metadata": {},
   "outputs": [],
   "source": [
    "# This is really slow, not sure why.\n",
    "fig, axs = plt.subplots(len(Var), len(Season), \n",
    "                        sharey='row', sharex=True,\n",
    "                        gridspec_kw={'wspace': 0, 'hspace': 0},\n",
    "                        figsize=(12,10))\n",
    "for v in range(len(Var)):\n",
    "    for i in range(len(Season)):\n",
    "        obsX = dsOBS[Var[v]].where(dsOBS.season==Season[i]).groupby(dsOBS['HourMin']).mean().roll(HourMin=rollHour, roll_coords=False)\n",
    "        obsSD = dsOBS[Var[v]].where(dsOBS.season==Season[i]).groupby(dsOBS['HourMin']).std().roll(HourMin=rollHour, roll_coords=False)\n",
    "        if Var[v]!='TBOT':\n",
    "            clmX = dsCLM[Var[v]].where(dsCLM.season==Season[i]).groupby(dsOBS['HourMin']).mean().roll(HourMin=rollHour, roll_coords=False)\n",
    "            clmSD = dsCLM[Var[v]].where(dsCLM.season==Season[i]).groupby(dsOBS['HourMin']).std().roll(HourMin=rollHour, roll_coords=False)\n",
    "        else:\n",
    "            clmX = dsCLM['TG'].where(dsCLM.season==Season[i]).groupby(dsOBS['HourMin']).mean().roll(HourMin=rollHour, roll_coords=False)\n",
    "            clmSD = dsCLM['TG'].where(dsCLM.season==Season[i]).groupby(dsOBS['HourMin']).std().roll(HourMin=rollHour, roll_coords=False)\n",
    "\n",
    "            \n",
    "        axs[v,i].plot(obsX.HourMin, obsX, '-', color='k')\n",
    "        axs[v,i].fill_between(obsX.HourMin, obsX - obsSD, obsX + obsSD, alpha=0.2,color='k')\n",
    "        axs[v,i].plot(clmX.HourMin, clmX, '-',color='tab:red')\n",
    "        axs[v,i].fill_between(clmX.HourMin, clmX - clmSD, clmX + clmSD, alpha=0.2,color='tab:red')\n",
    "        axs[v,i].yaxis.set_ticks_position('both')# Ticks on all 4 sides                                                                                                                                                                                                                                    \n",
    "        axs[v,i].xaxis.set_ticks_position('both')     \n",
    "\n",
    "        # control titles & axis labels\n",
    "        # label colums of data with variables name\n",
    "        if v == 0: \n",
    "            axs[v, i].set_title(Season[i])\n",
    "            if i == 0:\n",
    "                axs[v,i].legend([longSite,'CLM5'], frameon=False)\n",
    "                axs[v,i].set_title(site[0], loc='left', \n",
    "                                    fontsize='x-large', fontweight='bold')\n",
    "\n",
    "        # x-axis lables on bottom row of plots\n",
    "        if v == 3: \n",
    "            axs[v, i].set_xlabel('hour')\n",
    "        \n",
    "        # y axis labels and seasons in left column\n",
    "        if i == 0:\n",
    "            axs[v,i].set_ylabel(Var[v]) "
   ]
  },
  {
   "cell_type": "code",
   "execution_count": null,
   "metadata": {},
   "outputs": [],
   "source": []
  },
  {
   "cell_type": "code",
   "execution_count": null,
   "metadata": {},
   "outputs": [],
   "source": []
  },
  {
   "cell_type": "code",
   "execution_count": null,
   "metadata": {},
   "outputs": [],
   "source": []
  }
 ],
 "metadata": {
  "kernelspec": {
   "display_name": "Python [conda env:lens-py]",
   "language": "python",
   "name": "conda-env-lens-py-py"
  },
  "language_info": {
   "codemirror_mode": {
    "name": "ipython",
    "version": 3
   },
   "file_extension": ".py",
   "mimetype": "text/x-python",
   "name": "python",
   "nbconvert_exporter": "python",
   "pygments_lexer": "ipython3",
   "version": "3.7.9"
  }
 },
 "nbformat": 4,
 "nbformat_minor": 4
}
